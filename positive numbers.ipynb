{
 "cells": [
  {
   "cell_type": "code",
   "execution_count": 4,
   "metadata": {},
   "outputs": [
    {
     "name": "stdout",
     "output_type": "stream",
     "text": [
      "Initial List is : [[12, -7, 5, 64, -14], [12, 14, -95, 3]]\n",
      "Modified list is : [[12, 5, 64], [12, 14, 3]]\n"
     ]
    }
   ],
   "source": [
    "# Python code to get positive  \n",
    "# element from list of list \n",
    "  \n",
    "# List Initialisation \n",
    "Input = [[12, -7, 5, 64, -14], [12, 14, -95, 3]] \n",
    "Output = [] \n",
    "  \n",
    "# Using iteration \n",
    "for elem in Input: \n",
    "    temp = [] \n",
    "    for x in elem: \n",
    "        if x>0: \n",
    "            temp.append(x) \n",
    "    Output.append(temp) \n",
    "    \n",
    "# printing output \n",
    "print(\"Initial List is :\", Input) \n",
    "print(\"Modified list is :\", Output)"
   ]
  },
  {
   "cell_type": "code",
   "execution_count": null,
   "metadata": {},
   "outputs": [],
   "source": []
  }
 ],
 "metadata": {
  "kernelspec": {
   "display_name": "Python 3",
   "language": "python",
   "name": "python3"
  },
  "language_info": {
   "codemirror_mode": {
    "name": "ipython",
    "version": 3
   },
   "file_extension": ".py",
   "mimetype": "text/x-python",
   "name": "python",
   "nbconvert_exporter": "python",
   "pygments_lexer": "ipython3",
   "version": "3.7.4"
  }
 },
 "nbformat": 4,
 "nbformat_minor": 2
}
