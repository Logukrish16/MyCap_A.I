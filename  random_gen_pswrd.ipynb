{
 "cells": [
  {
   "cell_type": "code",
   "execution_count": 1,
   "metadata": {},
   "outputs": [],
   "source": [
    "import random"
   ]
  },
  {
   "cell_type": "code",
   "execution_count": 2,
   "metadata": {},
   "outputs": [],
   "source": [
    "# input the datas such as numbers, lowercase, uppercase and special characters\n",
    "NUMBERS = ['0', '1', '2', '3', '4', '5', '6', '7','8','9']\n",
    "\n",
    "Lowercase_characters = ['a','b','c','d','e','f','g','h','i','j','k','l','m','n','o','p','q','r','s','t','u','v','w','x','y','z']\n",
    "\n",
    "Uppercase_characters = ['A','B','C','D','E','F','G','H','I','J','K','L','M','N','O','P','Q','R','S','T','U','V','W','X','Y','Z']\n",
    "\n",
    "Special_characters = ['~', '!', '@', '#', '$', '%', '^', '&', '*', '(', ')', ',', ';', ':']"
   ]
  },
  {
   "cell_type": "code",
   "execution_count": 6,
   "metadata": {},
   "outputs": [
    {
     "name": "stdout",
     "output_type": "stream",
     "text": [
      "Enter the numbers of password to be generated:4\n",
      "Enter the length of password:8\n"
     ]
    }
   ],
   "source": [
    "k = int(input(\"Enter the numbers of password to be generated:\"))\n",
    "g = int(input(\"Enter the length of password:\"))"
   ]
  },
  {
   "cell_type": "code",
   "execution_count": 7,
   "metadata": {},
   "outputs": [],
   "source": [
    "Combined_characters = NUMBERS + Lowercase_characters + Uppercase_characters + Special_characters"
   ]
  },
  {
   "cell_type": "code",
   "execution_count": 11,
   "metadata": {},
   "outputs": [
    {
     "name": "stdout",
     "output_type": "stream",
     "text": [
      "['1rC(AhoY']\n",
      "['1rC(AhoY', '7qW)H5E8']\n",
      "['1rC(AhoY', '7qW)H5E8', '9zI;19CW']\n",
      "['1rC(AhoY', '7qW)H5E8', '9zI;19CW', '0vL;(&G:']\n"
     ]
    }
   ],
   "source": [
    "password = []\n",
    "for i in range(0,k):\n",
    "    random_numbers = random.choice(NUMBERS)\n",
    "    random_lowercase = random.choice(Lowercase_characters)\n",
    "    random_uppercase = random.choice(Uppercase_characters)\n",
    "    random_specialcharac = random.choice(Special_characters)\n",
    "    \n",
    "    temp_pswrd = random_numbers + random_lowercase + random_uppercase + random_specialcharac\n",
    "    \n",
    "    for x in range(g-4):\n",
    "        temp_pswrd = temp_pswrd + random.choice(Combined_characters)\n",
    "    password.append(temp_pswrd)\n",
    "    print(password)"
   ]
  },
  {
   "cell_type": "code",
   "execution_count": null,
   "metadata": {},
   "outputs": [],
   "source": []
  }
 ],
 "metadata": {
  "kernelspec": {
   "display_name": "Python 3",
   "language": "python",
   "name": "python3"
  },
  "language_info": {
   "codemirror_mode": {
    "name": "ipython",
    "version": 3
   },
   "file_extension": ".py",
   "mimetype": "text/x-python",
   "name": "python",
   "nbconvert_exporter": "python",
   "pygments_lexer": "ipython3",
   "version": "3.7.4"
  }
 },
 "nbformat": 4,
 "nbformat_minor": 2
}
