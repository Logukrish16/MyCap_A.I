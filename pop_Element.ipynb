{
 "cells": [
  {
   "cell_type": "markdown",
   "metadata": {},
   "source": [
    "\n",
    "# deleting different dictionary elements\n",
    "\n"
   ]
  },
  {
   "cell_type": "code",
   "execution_count": 5,
   "metadata": {},
   "outputs": [
    {
     "name": "stdout",
     "output_type": "stream",
     "text": [
      "The popped element is: 1\n",
      "The dictionary is: {'gokul': 2, 'pranesh': 3}\n"
     ]
    }
   ],
   "source": [
    "# random sales dictionary\n",
    "data1 = { 'logesh': 1, 'gokul': 2, 'pranesh': 3 }\n",
    "\n",
    "element = data1.pop('logesh')\n",
    "print('The popped element is:', element)\n",
    "print('The dictionary is:', data1)"
   ]
  },
  {
   "cell_type": "code",
   "execution_count": null,
   "metadata": {},
   "outputs": [],
   "source": []
  }
 ],
 "metadata": {
  "kernelspec": {
   "display_name": "Python 3",
   "language": "python",
   "name": "python3"
  }
 },
 "nbformat": 4,
 "nbformat_minor": 2
}
