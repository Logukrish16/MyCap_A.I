{
 "cells": [
  {
   "cell_type": "code",
   "execution_count": 4,
   "metadata": {},
   "outputs": [
    {
     "name": "stdout",
     "output_type": "stream",
     "text": [
      "enter the elements for list 1:3\n",
      "Enter the values\n",
      "2\n",
      "3\n",
      "4\n",
      "enter the elements for list 2:3\n",
      "5\n",
      "6\n",
      "7\n",
      "the lists are:- \n",
      "['2', '3', '4']\n",
      "['5', '6', '7']\n"
     ]
    }
   ],
   "source": [
    "k = int(input(\"enter the elements for list 1:\"))\n",
    "list1 = []\n",
    "print(\"Enter the values\")\n",
    "for i in range(0,k):\n",
    "    s = input()\n",
    "    list1.append(s)\n",
    "    \n",
    "g = int(input(\"enter the elements for list 2:\"))\n",
    "list2 = []\n",
    "for i in range(0,g):\n",
    "    s=input()\n",
    "    list2.append(s)\n",
    "print(\"the lists are:- \")\n",
    "print(list1)\n",
    "print(list2)"
   ]
  },
  {
   "cell_type": "code",
   "execution_count": null,
   "metadata": {},
   "outputs": [],
   "source": []
  }
 ],
 "metadata": {
  "kernelspec": {
   "display_name": "Python 3",
   "language": "python",
   "name": "python3"
  },
  "language_info": {
   "codemirror_mode": {
    "name": "ipython",
    "version": 3
   },
   "file_extension": ".py",
   "mimetype": "text/x-python",
   "name": "python",
   "nbconvert_exporter": "python",
   "pygments_lexer": "ipython3",
   "version": "3.7.4"
  }
 },
 "nbformat": 4,
 "nbformat_minor": 2
}
